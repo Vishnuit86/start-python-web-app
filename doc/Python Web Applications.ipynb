{
 "cells": [
  {
   "cell_type": "markdown",
   "id": "a8a43e62",
   "metadata": {},
   "source": [
    "This jupyter notebook is motivated from [python web app tutorial](https://realpython.com/python-web-applications/)"
   ]
  },
  {
   "cell_type": "code",
   "execution_count": null,
   "id": "5a8b6ee8",
   "metadata": {},
   "outputs": [],
   "source": []
  },
  {
   "cell_type": "markdown",
   "id": "c9271d37",
   "metadata": {},
   "source": [
    "### Deploy Your Script as a Flask App"
   ]
  },
  {
   "cell_type": "markdown",
   "id": "b124ed22",
   "metadata": {},
   "source": [
    "### Learning\n",
    "- What web applications are and how you can host them online\n",
    "- How to convert a Python script into a Flask web application\n",
    "- How to improve user experience by adding HTML to your Python code\n",
    "- How to deploy your Python web application to Google App Engine"
   ]
  },
  {
   "cell_type": "markdown",
   "id": "21c26dc1",
   "metadata": {},
   "source": [
    "### Questions answered\n",
    "- What types of Python code distribution exist\n",
    "- Why building a web application can be a good choice\n",
    "- What a web application is\n",
    "- How content gets delivered over the Internet\n",
    "- What web hosting means\n",
    "- Which hosting providers exist and which one to use"
   ]
  },
  {
   "cell_type": "markdown",
   "id": "ccbca4af",
   "metadata": {},
   "source": [
    "### Distribute Your Python Code\n",
    "- Python library\n",
    "    - Develop your code as python package which your user can install in their system. This requires dependency on python and they need to install python in their system\n",
    "- Standalone program\n",
    "    - Share your code as executable one. This requires knowledge on how your code work etc\n",
    "- Python web application\n",
    "    - This is plateform independent and can be run by anyone who has access to the internet. Converting your script into a Python web application is a great solution to make your code usable for a broad audience\n",
    "    - Code is implemented in backend server\n",
    "    - python is a common choice as a back-end language.\n",
    "    \n",
    "    \n",
    "### Goal\n",
    "- instead of the web-first approach described above, we will take a different angle. \n",
    "- we are planning to build a web application. \n",
    "- we just created a useful Python script, and now we want to share with the world. \n",
    "- To make it accessible to a broad range of users, we will refactor it into a web application and then deploy it to the Internet.\n",
    "\n"
   ]
  },
  {
   "cell_type": "markdown",
   "id": "7c2bf7ed",
   "metadata": {},
   "source": [
    "### Python Web Applications\n",
    "\n",
    "- websites had fixed content that was the same for every user who accessed that page. \n",
    "These web pages are called static because their content doesn’t change when you interact with them. \n",
    "When serving a static web page, a web server responds to your request by sending back the content of that page, \n",
    "regardless of who you are or what other actions you took.\n",
    "- [Example](http://info.cern.ch/hypertext/WWW/TheProject.html)\n",
    "\n",
    "\n",
    "- Such static websites aren’t considered applications since their content isn’t generated dynamically by code. \n",
    "While static sites used to make up all of the Internet, most websites today are true web applications, w\n",
    "hich offer dynamic web pages that can change the content they deliver.\n",
    "\n",
    "- For instance, a webmail application allows you to interact with it in many ways. \n",
    "Depending on your actions, it can display different types of information, often while staying in a single page\n"
   ]
  },
  {
   "cell_type": "markdown",
   "id": "02b1c2aa",
   "metadata": {},
   "source": [
    "### Python-driven web applications \n",
    "- use Python code to determine what actions to take and what content to show. \n",
    "- Your code is run by the web server that hosts your website, which means that your users don’t need \n",
    "to install anything. All they need to interact with your code is a browser and an Internet connection."
   ]
  },
  {
   "cell_type": "markdown",
   "id": "36d073a5",
   "metadata": {},
   "source": [
    "### HTTP Request-Response Cycle\n",
    "- Serving dynamic content over the Internet involves a lot of different pieces, \n",
    "- they all have to communicate with one another to function correctly. \n",
    "- Generalized overview of what takes place when a user interacts with a web application\n",
    "\n"
   ]
  },
  {
   "cell_type": "markdown",
   "id": "ec08ef69",
   "metadata": {},
   "source": [
    "#### Sending: \n",
    "- First, your user makes a request for a particular web page on your web app. \n",
    "They can do this, for example, by typing a URL into their browser.\n",
    "\n",
    "#### Receiving: \n",
    "- This request gets received by the web server that hosts your website.\n",
    "\n",
    "#### Matching: \n",
    "- Your web server now uses a program to match the user’s request to a particular portion of your Python script.\n",
    "\n",
    "#### Running: \n",
    "- he appropriate Python code is called up by that program. When your code runs, it writes out a web page as a response.\n",
    "\n",
    "#### Delivering: \n",
    "- The program then delivers this response back to your user through the web server.\n",
    "\n",
    "#### Viewing: \n",
    "- Finally, the user can view the web server’s response. For example, the resulting web page can be displayed in a browser.\n",
    "\n",
    "\n",
    "This is a general process of how content is delivered over the Internet. The programming language used on the server, as well as the technologies used to establish that connection, can differ. However, the concept used to communicate across HTTP requests and responses remains the same and is called the HTTP Request-Response Cycle."
   ]
  },
  {
   "cell_type": "markdown",
   "id": "692c551c",
   "metadata": {},
   "source": [
    "### Choose a Hosting Provider\n",
    "- [Google App Engine](https://cloud.google.com/appengine/docs/standard/python3/runtime)\n",
    "- [Python anywhere](https://www.pythonanywhere.com/)\n",
    "- [replit](https://replit.com/)\n",
    "- [heroku](https://www.heroku.com/)\n",
    "\n",
    "Using Google App Engine will give you a good start in learning about deploying Python code to the web as \n",
    "it strikes a balance between abstracting away complexity and allowing you to customize the setup."
   ]
  },
  {
   "cell_type": "markdown",
   "id": "e3f29907",
   "metadata": {},
   "source": [
    "### Google App Engine \n",
    "- This is part of the Google Cloud Platform (GCP), which is run by Google and represents one of the big cloud providers, \n",
    "along with Microsoft Azure and Amazon Web Services (AWS).\n",
    "- To get started with GCP, download and install the [Google Cloud SDK](https://cloud.google.com/sdk/docs/install) \n",
    "for your operating system. For additional guidance beyond what you’ll find in this tutorial, \n",
    "you can consult [Google App Engine’s documentation](https://cloud.google.com/appengine/docs/standard/python3/runtime).\n",
    "\n",
    "- Note: You’ll be working with the Python 3 standard environment. Google App Engine’s standard environment supports Python 3 runtimes and offers a free tier.\n",
    "- The Google Cloud SDK installation also includes a command-line program called gcloud, which you’ll \n",
    "later use to deploy your web app. Once you’re done with the installation, you can verify that everything worked \n",
    "by typing the following command into your console\n",
    "    \n",
    "- $ gcloud --version"
   ]
  },
  {
   "cell_type": "markdown",
   "id": "a5c510da",
   "metadata": {},
   "source": [
    "## Build a Basic Python Web Application"
   ]
  },
  {
   "cell_type": "markdown",
   "id": "8a2b2ff4",
   "metadata": {},
   "source": [
    "### Set Up Your Project\n",
    "Create following 3 files\n",
    "- main.py contains your Python code wrapped in a minimal implementation of the Flask web framework.\n",
    "- requirements.txt lists all the dependencies your code needs to work properly.\n",
    "- app.yaml helps Google App Engine decide which settings to use on its server."
   ]
  },
  {
   "cell_type": "markdown",
   "id": "7ca5e667",
   "metadata": {},
   "source": [
    "### create main.py\n",
    "- [import](https://realpython.com/python-import/) Flask class\n",
    "-  then you create an instance of a Flask app\n",
    "- write a [Python decorator](https://realpython.com/primer-on-python-decorators/) called @app.route that Flask uses to connect [URL](https://en.wikipedia.org/wiki/URL) endpoints with code contained in functions. The argument to @app.route defines the URL’s path component, which is the root path (\"/\") in this case.\n",
    "\n",
    "- write function index(), which is wrapped by the decorator. This function defines what should be executed if the defined URL endpoint is requested by a user. Its return value determines what a user will see when they load the page."
   ]
  },
  {
   "cell_type": "markdown",
   "id": "f716a9c7",
   "metadata": {},
   "source": [
    "### Create requirements.txt\n",
    "- place for dependency\n",
    "- Google App Engine will use requirements.txt to install the necessary Python dependencies for \n",
    "your project when setting it up on the server. This is similar to what you would do \n",
    "after creating and activating a new [virtual environment](https://realpython.com/python-virtual-environments-a-primer/) locally"
   ]
  },
  {
   "cell_type": "markdown",
   "id": "03966744",
   "metadata": {},
   "source": [
    "### Create app.yaml\n",
    "- This helps Google App Engine set up the right server environment for your code. \n",
    "This file requires only one line, which defines the Python runtime\n",
    "- This clarifies that the right runtime for your Python code is Python 3.8. This is enough for Google App Engine\n",
    "to do the necessary setup on its servers.\n",
    "\n",
    "You can use Google App Engine’s app.yaml file for additional setup, such as adding environment variables to your application. You can also use it to define the path to static content for your app, such as images, CSS or JavaScript files. you can consult Google App Engine’s documentation on the [app.yaml Configuration File](https://cloud.google.com/appengine/docs/standard/reference/app-yaml?tab=python) if you want to add such functionality."
   ]
  },
  {
   "cell_type": "markdown",
   "id": "4e272665",
   "metadata": {},
   "source": [
    "### Test locally\n",
    "- run main.py\n",
    "- output\n",
    "\n",
    "- This output tells you three important pieces of information:\n",
    "\n",
    "- WARNING: This is Flask’s development server, which means you don’t want to use it to serve your code in production.\n",
    "    Google App Engine will handle that for you instead.\n",
    "\n",
    "- Running on http://127.0.0.1:8080/: This is the URL where you can find your app. \n",
    "            It’s the URL for your localhost, which means the app is running on your own computer. \n",
    "            Navigate to that URL in your browser to see your code live.\n",
    "\n",
    "- Press CTRL+C to quit: The same line also tells you that you can exit the development server by\n",
    "    pressing Ctrl+C on your keyboard.\n",
    "    \n",
    "- browser: http://127.0.0.1:8080/"
   ]
  },
  {
   "cell_type": "markdown",
   "id": "5a3fed72",
   "metadata": {},
   "source": [
    "## Deploy Your Python Web Application"
   ]
  },
  {
   "cell_type": "code",
   "execution_count": null,
   "id": "aaf8ba85",
   "metadata": {},
   "outputs": [],
   "source": []
  },
  {
   "cell_type": "code",
   "execution_count": null,
   "id": "71298783",
   "metadata": {},
   "outputs": [],
   "source": []
  },
  {
   "cell_type": "code",
   "execution_count": 2,
   "id": "04cb4cb4",
   "metadata": {},
   "outputs": [
    {
     "data": {
      "text/plain": [
       "3"
      ]
     },
     "execution_count": 2,
     "metadata": {},
     "output_type": "execute_result"
    }
   ],
   "source": []
  },
  {
   "cell_type": "code",
   "execution_count": null,
   "id": "ead4254e",
   "metadata": {},
   "outputs": [],
   "source": []
  }
 ],
 "metadata": {
  "kernelspec": {
   "display_name": "Python 3 (ipykernel)",
   "language": "python",
   "name": "python3"
  },
  "language_info": {
   "codemirror_mode": {
    "name": "ipython",
    "version": 3
   },
   "file_extension": ".py",
   "mimetype": "text/x-python",
   "name": "python",
   "nbconvert_exporter": "python",
   "pygments_lexer": "ipython3",
   "version": "3.9.7"
  }
 },
 "nbformat": 4,
 "nbformat_minor": 5
}
