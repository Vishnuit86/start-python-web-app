{
 "cells": [
  {
   "cell_type": "code",
   "execution_count": 1,
   "id": "8b91460e",
   "metadata": {},
   "outputs": [
    {
     "data": {
      "text/plain": [
       "5"
      ]
     },
     "execution_count": 1,
     "metadata": {},
     "output_type": "execute_result"
    }
   ],
   "source": [
    "3 + 2"
   ]
  },
  {
   "cell_type": "code",
   "execution_count": 2,
   "id": "18eff556",
   "metadata": {},
   "outputs": [
    {
     "data": {
      "text/plain": [
       "7"
      ]
     },
     "execution_count": 2,
     "metadata": {},
     "output_type": "execute_result"
    }
   ],
   "source": [
    "a = 3\n",
    "b = 4\n",
    "\n",
    "a + b"
   ]
  },
  {
   "cell_type": "code",
   "execution_count": 3,
   "id": "a99e14e8",
   "metadata": {},
   "outputs": [
    {
     "name": "stdout",
     "output_type": "stream",
     "text": [
      "my name is python web app\n"
     ]
    }
   ],
   "source": [
    "print(\"my name is python web app\")"
   ]
  },
  {
   "cell_type": "code",
   "execution_count": 4,
   "id": "b8fe6e47",
   "metadata": {},
   "outputs": [],
   "source": [
    "from flask import Flask"
   ]
  },
  {
   "cell_type": "code",
   "execution_count": 5,
   "id": "e9bfc3f3",
   "metadata": {},
   "outputs": [],
   "source": [
    "from flask import request"
   ]
  },
  {
   "cell_type": "code",
   "execution_count": 6,
   "id": "6e4130a1",
   "metadata": {},
   "outputs": [],
   "source": [
    "app = Flask(__name__)"
   ]
  },
  {
   "cell_type": "code",
   "execution_count": null,
   "id": "bcc283a8",
   "metadata": {},
   "outputs": [],
   "source": [
    "app.route"
   ]
  },
  {
   "cell_type": "code",
   "execution_count": 15,
   "id": "518f78e9",
   "metadata": {},
   "outputs": [],
   "source": [
    "def fahrenheit_from(celsius):\n",
    "    \"\"\"Convert Celsius to Fahrenheit degrees.\"\"\"\n",
    "    try:\n",
    "        fahrenheit = float(celsius) * 9 / 5 + 32\n",
    "        fahrenheit = round(fahrenheit, 3)  # Round to three decimal places\n",
    "        return str(fahrenheit)\n",
    "    except ValueError:\n",
    "        return \"invalid input\"\n"
   ]
  },
  {
   "cell_type": "code",
   "execution_count": 11,
   "id": "89290f87",
   "metadata": {},
   "outputs": [],
   "source": [
    "def add(a, b):\n",
    "    return a - b"
   ]
  },
  {
   "cell_type": "code",
   "execution_count": 12,
   "id": "6873baeb",
   "metadata": {},
   "outputs": [
    {
     "data": {
      "text/plain": [
       "-1"
      ]
     },
     "execution_count": 12,
     "metadata": {},
     "output_type": "execute_result"
    }
   ],
   "source": [
    "add(3, 4)"
   ]
  },
  {
   "cell_type": "code",
   "execution_count": 13,
   "id": "88224d70",
   "metadata": {},
   "outputs": [],
   "source": [
    "def add(string1, string2):\n",
    "    return string1-string2"
   ]
  },
  {
   "cell_type": "code",
   "execution_count": 14,
   "id": "76ff79b6",
   "metadata": {},
   "outputs": [
    {
     "ename": "TypeError",
     "evalue": "unsupported operand type(s) for -: 'str' and 'str'",
     "output_type": "error",
     "traceback": [
      "\u001b[1;31m---------------------------------------------------------------------------\u001b[0m",
      "\u001b[1;31mTypeError\u001b[0m                                 Traceback (most recent call last)",
      "\u001b[1;32m~\\AppData\\Local\\Temp/ipykernel_16364/2821979613.py\u001b[0m in \u001b[0;36m<module>\u001b[1;34m\u001b[0m\n\u001b[1;32m----> 1\u001b[1;33m \u001b[0madd\u001b[0m\u001b[1;33m(\u001b[0m\u001b[1;34m'rajan'\u001b[0m\u001b[1;33m,\u001b[0m \u001b[1;34m'nitin'\u001b[0m\u001b[1;33m)\u001b[0m\u001b[1;33m\u001b[0m\u001b[1;33m\u001b[0m\u001b[0m\n\u001b[0m",
      "\u001b[1;32m~\\AppData\\Local\\Temp/ipykernel_16364/2643333494.py\u001b[0m in \u001b[0;36madd\u001b[1;34m(string1, string2)\u001b[0m\n\u001b[0;32m      1\u001b[0m \u001b[1;32mdef\u001b[0m \u001b[0madd\u001b[0m\u001b[1;33m(\u001b[0m\u001b[0mstring1\u001b[0m\u001b[1;33m,\u001b[0m \u001b[0mstring2\u001b[0m\u001b[1;33m)\u001b[0m\u001b[1;33m:\u001b[0m\u001b[1;33m\u001b[0m\u001b[1;33m\u001b[0m\u001b[0m\n\u001b[1;32m----> 2\u001b[1;33m     \u001b[1;32mreturn\u001b[0m \u001b[0mstring1\u001b[0m\u001b[1;33m-\u001b[0m\u001b[0mstring2\u001b[0m\u001b[1;33m\u001b[0m\u001b[1;33m\u001b[0m\u001b[0m\n\u001b[0m",
      "\u001b[1;31mTypeError\u001b[0m: unsupported operand type(s) for -: 'str' and 'str'"
     ]
    }
   ],
   "source": [
    "add('rajan', 'nitin')"
   ]
  },
  {
   "cell_type": "code",
   "execution_count": 16,
   "id": "e4ea35aa",
   "metadata": {},
   "outputs": [
    {
     "data": {
      "text/plain": [
       "<function __main__.fahrenheit_from(celsius)>"
      ]
     },
     "execution_count": 16,
     "metadata": {},
     "output_type": "execute_result"
    }
   ],
   "source": [
    "fahrenheit_from"
   ]
  },
  {
   "cell_type": "code",
   "execution_count": 17,
   "id": "634908a3",
   "metadata": {},
   "outputs": [],
   "source": [
    "@app.route('/')\n",
    "def hello():\n",
    "    return 'my home page'"
   ]
  },
  {
   "cell_type": "code",
   "execution_count": null,
   "id": "09925168",
   "metadata": {},
   "outputs": [],
   "source": []
  },
  {
   "cell_type": "code",
   "execution_count": null,
   "id": "cd60b9ea",
   "metadata": {},
   "outputs": [],
   "source": [
    "@app.route('/nitin')\n",
    "def welcome():\n",
    "    return 'What is your order Nitin ji'"
   ]
  },
  {
   "cell_type": "code",
   "execution_count": null,
   "id": "0b53b14a",
   "metadata": {},
   "outputs": [],
   "source": []
  },
  {
   "cell_type": "code",
   "execution_count": null,
   "id": "5b12aa7c",
   "metadata": {},
   "outputs": [
    {
     "name": "stdout",
     "output_type": "stream",
     "text": [
      " * Serving Flask app \"__main__\" (lazy loading)\n",
      " * Environment: production\n",
      "\u001b[31m   WARNING: This is a development server. Do not use it in a production deployment.\u001b[0m\n",
      "\u001b[2m   Use a production WSGI server instead.\u001b[0m\n",
      " * Debug mode: off\n"
     ]
    },
    {
     "name": "stderr",
     "output_type": "stream",
     "text": [
      " * Running on http://127.0.0.1:8080/ (Press CTRL+C to quit)\n",
      "127.0.0.1 - - [15/Feb/2023 20:24:16] \"GET / HTTP/1.1\" 200 -\n",
      "127.0.0.1 - - [15/Feb/2023 20:24:16] \"GET /favicon.ico HTTP/1.1\" 404 -\n",
      "127.0.0.1 - - [15/Feb/2023 20:26:05] \"GET /nitin HTTP/1.1\" 404 -\n",
      "127.0.0.1 - - [15/Feb/2023 20:27:13] \"GET /nitin HTTP/1.1\" 404 -\n"
     ]
    }
   ],
   "source": [
    "if __name__ == '__main__':\n",
    "    app.run(host=\"127.0.0.1\", port=8080, debug=False)"
   ]
  },
  {
   "cell_type": "code",
   "execution_count": null,
   "id": "bae5cb26",
   "metadata": {},
   "outputs": [],
   "source": []
  }
 ],
 "metadata": {
  "kernelspec": {
   "display_name": "Python 3 (ipykernel)",
   "language": "python",
   "name": "python3"
  },
  "language_info": {
   "codemirror_mode": {
    "name": "ipython",
    "version": 3
   },
   "file_extension": ".py",
   "mimetype": "text/x-python",
   "name": "python",
   "nbconvert_exporter": "python",
   "pygments_lexer": "ipython3",
   "version": "3.9.7"
  }
 },
 "nbformat": 4,
 "nbformat_minor": 5
}
