{
 "cells": [
  {
   "cell_type": "code",
   "execution_count": 3,
   "id": "d164c274",
   "metadata": {},
   "outputs": [
    {
     "name": "stdout",
     "output_type": "stream",
     "text": [
      " * Serving Flask app \"__main__\" (lazy loading)\n",
      " * Environment: production\n",
      "\u001b[31m   WARNING: This is a development server. Do not use it in a production deployment.\u001b[0m\n",
      "\u001b[2m   Use a production WSGI server instead.\u001b[0m\n",
      " * Debug mode: on\n"
     ]
    },
    {
     "name": "stderr",
     "output_type": "stream",
     "text": [
      " * Restarting with watchdog (windowsapi)\n"
     ]
    },
    {
     "ename": "SystemExit",
     "evalue": "1",
     "output_type": "error",
     "traceback": [
      "An exception has occurred, use %tb to see the full traceback.\n",
      "\u001b[1;31mSystemExit\u001b[0m\u001b[1;31m:\u001b[0m 1\n"
     ]
    }
   ],
   "source": [
    "from flask import Flask\n",
    "from flask import request\n",
    "\n",
    "app = Flask(__name__)\n",
    "\n",
    "\n",
    "def fahrenheit_from(celsius):\n",
    "    \"\"\"Convert Celsius to Fahrenheit degrees.\"\"\"\n",
    "    try:\n",
    "        fahrenheit = float(celsius) * 9 / 5 + 32\n",
    "        fahrenheit = round(fahrenheit, 3)  # Round to three decimal places\n",
    "        return str(fahrenheit)\n",
    "    except ValueError:\n",
    "        return \"invalid input\"\n",
    "\n",
    "\n",
    "@app.route(\"/\")\n",
    "def index():\n",
    "    celsius = request.args.get(\"celsius\", \"\")\n",
    "    if celsius:\n",
    "        fahrenheit = fahrenheit_from(celsius)\n",
    "    else:\n",
    "        fahrenheit = \"\"\n",
    "    return (\n",
    "            \"\"\"<form action=\"\" method=\"get\">\n",
    "                    Celsius temperature: <input type=\"text\" name=\"celsius\">\n",
    "                    <input type=\"submit\" value=\"Convert to Fahrenheit\">\n",
    "                </form>\"\"\"\n",
    "            + \"Fahrenheit: \"\n",
    "            + fahrenheit\n",
    "    )\n",
    "\n",
    "\n",
    "if __name__ == \"__main__\":\n",
    "    app.run(host=\"127.0.0.1\", port=8080, debug=True)\n"
   ]
  },
  {
   "cell_type": "code",
   "execution_count": null,
   "id": "6fa6b7d9",
   "metadata": {},
   "outputs": [],
   "source": []
  }
 ],
 "metadata": {
  "kernelspec": {
   "display_name": "Python 3 (ipykernel)",
   "language": "python",
   "name": "python3"
  },
  "language_info": {
   "codemirror_mode": {
    "name": "ipython",
    "version": 3
   },
   "file_extension": ".py",
   "mimetype": "text/x-python",
   "name": "python",
   "nbconvert_exporter": "python",
   "pygments_lexer": "ipython3",
   "version": "3.9.7"
  }
 },
 "nbformat": 4,
 "nbformat_minor": 5
}
